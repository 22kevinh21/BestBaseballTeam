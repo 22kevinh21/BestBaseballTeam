{
 "cells": [
  {
   "cell_type": "markdown",
   "id": "6c443a82-4763-40ba-99cf-b42d1f682a1a",
   "metadata": {},
   "source": [
    "# Best Baseball Team Project\n",
    "Goal: To use data scraping to pull data from MLB's website with the intention of building the best playoffs team in baseball. \n",
    "Currently, as of June 27, 2024 the best team batting average is .263 and the best ERA is 3.07. This means that the team with the best batting average gets a hit 26.3% on any given at-bat for any given player, and the team with the best ERA (earned run average) allows 3.07 runs per nine innings. Of course these can change, but if the current best teams went to the playoffs today, we would statistically have a better team. The goal for our team is to win the World Series. With this in mind, we set the following parameters:\n",
    "\n",
    "Amount of Players on Roster: 26\n",
    "Team Batting Average: .300\n",
    "Team ERA: 2.50\n"
   ]
  },
  {
   "cell_type": "markdown",
   "id": "81debc04-416f-4cfb-bbf5-555c743f447b",
   "metadata": {},
   "source": [
    "## Data Scraping Position Players' Data"
   ]
  },
  {
   "cell_type": "code",
   "execution_count": 16,
   "id": "5e7183af-ba8b-4bf5-81d9-696ecf41f129",
   "metadata": {},
   "outputs": [
    {
     "name": "stdout",
     "output_type": "stream",
     "text": [
      "Total number of players: 146\n"
     ]
    }
   ],
   "source": [
    "import csv\n",
    "from selenium import webdriver\n",
    "from selenium.webdriver.chrome.service import Service\n",
    "from selenium.webdriver.common.by import By\n",
    "from selenium.webdriver.support.ui import WebDriverWait\n",
    "from selenium.webdriver.support import expected_conditions as EC\n",
    "from webdriver_manager.chrome import ChromeDriverManager\n",
    "from bs4 import BeautifulSoup\n",
    "\n",
    "urls = [\n",
    "    'https://www.mlb.com/stats/',\n",
    "    'https://www.mlb.com/stats/?page=2',\n",
    "    'https://www.mlb.com/stats/?page=3',\n",
    "    'https://www.mlb.com/stats/?page=4',\n",
    "    'https://www.mlb.com/stats/?page=5',\n",
    "    'https://www.mlb.com/stats/?page=6'\n",
    "]\n",
    "\n",
    "service = Service(ChromeDriverManager().install())\n",
    "driver = webdriver.Chrome(service=service)\n",
    "\n",
    "def scrape_player_page(url):\n",
    "    driver.get(url)\n",
    "    try:\n",
    "        # Wait until the AVG column is loaded\n",
    "        WebDriverWait(driver, 10).until(\n",
    "            EC.presence_of_element_located((By.CSS_SELECTOR, 'td[headers=\"tb-0-header-col14\"]'))\n",
    "        )\n",
    "        page_content = driver.page_source\n",
    "        soup = BeautifulSoup(page_content, 'html.parser')\n",
    "\n",
    "        avg_cells = soup.find_all('td', {'headers': 'tb-0-header-col14'})\n",
    "        name_containers = soup.find_all('a', class_='bui-link')\n",
    "        position_containers = soup.find_all('div', class_='position-SAxuJGcx')\n",
    "\n",
    "        player_names = []\n",
    "        for container in name_containers:\n",
    "            spans = container.find_all('span', class_='short-IiSPVSQp')\n",
    "            full_name = ' '.join(span.text.strip() for span in spans if span.text.strip())\n",
    "            if full_name:\n",
    "                player_names.append(full_name)\n",
    "\n",
    "        player_positions = [pos.text.strip() for pos in position_containers]\n",
    "\n",
    "        players_avg_position = [(name, avg.text.strip(), pos) for name, avg, pos in zip(player_names[:len(avg_cells)], avg_cells, player_positions[:len(avg_cells)])]\n",
    "        return players_avg_position\n",
    "    except Exception as e:\n",
    "        print(f\"Error scraping {url}: {e}\")\n",
    "        return []\n",
    "\n",
    "all_players_avg_position = []\n",
    "total_players = 0\n",
    "for url in urls:\n",
    "    players_avg_position = scrape_player_page(url)\n",
    "    all_players_avg_position.extend(players_avg_position)\n",
    "    total_players += len(players_avg_position)\n",
    "\n",
    "with open('players_stats.csv', mode='w', newline='', encoding='utf-8') as file:\n",
    "    writer = csv.writer(file)\n",
    "    writer.writerow(['Player', 'AVG', 'Position'])  # Write header\n",
    "    writer.writerows(all_players_avg_position)\n",
    "\n",
    "print(f\"Total number of players: {total_players}\")\n",
    "driver.quit()\n"
   ]
  },
  {
   "cell_type": "markdown",
   "id": "21b1b9b7-7333-4a07-aa34-fd6fd1e7866c",
   "metadata": {},
   "source": [
    "## Data Scraping Pitchers' Data"
   ]
  },
  {
   "cell_type": "code",
   "execution_count": 17,
   "id": "e6f567aa-8705-4c78-89cf-9c7578243a84",
   "metadata": {},
   "outputs": [
    {
     "name": "stdout",
     "output_type": "stream",
     "text": [
      "Total number of pitchers: 75\n"
     ]
    }
   ],
   "source": [
    "import csv\n",
    "from selenium import webdriver\n",
    "from selenium.webdriver.chrome.service import Service\n",
    "from selenium.webdriver.common.by import By\n",
    "from selenium.webdriver.support.ui import WebDriverWait\n",
    "from selenium.webdriver.support import expected_conditions as EC\n",
    "from webdriver_manager.chrome import ChromeDriverManager\n",
    "from bs4 import BeautifulSoup\n",
    "\n",
    "purls = [\n",
    "    'https://www.mlb.com/stats/pitching?sortState=asc',\n",
    "    'https://www.mlb.com/stats/pitching?page=2&sortState=asc',\n",
    "    'https://www.mlb.com/stats/pitching?page=3&sortState=asc'\n",
    "]\n",
    "\n",
    "\n",
    "service = Service(ChromeDriverManager().install())\n",
    "driver = webdriver.Chrome(service=service)\n",
    "\n",
    "def scrape_pitcher_page(url):\n",
    "    driver.get(url)\n",
    "    try:\n",
    "        # Wait until the ERA column is loaded\n",
    "        WebDriverWait(driver, 10).until(\n",
    "            EC.presence_of_element_located((By.CSS_SELECTOR, 'td[data-col=\"4\"]'))\n",
    "        )\n",
    "        page_content = driver.page_source\n",
    "        soup = BeautifulSoup(page_content, 'html.parser')\n",
    "\n",
    "        era_cells = soup.find_all('td', {'data-col': '4'})\n",
    "        name_containers = soup.find_all('a', class_='bui-link')\n",
    "\n",
    "        pitcher_names = []\n",
    "        for container in name_containers:\n",
    "            spans = container.find_all('span', class_='short-IiSPVSQp')\n",
    "            full_name = ' '.join(span.text.strip() for span in spans if span.text.strip())\n",
    "            if full_name:\n",
    "                pitcher_names.append(full_name)\n",
    "        \n",
    "        pitchers_era = [(name, era.text.strip()) for name, era in zip(pitcher_names[:len(era_cells)], era_cells)]\n",
    "        return pitchers_era\n",
    "    except Exception as e:\n",
    "        print(f\"Error scraping {url}: {e}\")\n",
    "        return []\n",
    "\n",
    "all_pitchers_era = []\n",
    "total_pitchers = 0\n",
    "for url in purls:\n",
    "    pitchers_era = scrape_pitcher_page(url)\n",
    "    all_pitchers_era.extend(pitchers_era)\n",
    "    total_pitchers += len(pitchers_era)\n",
    "\n",
    "with open('pitchers_stats.csv', mode='w', newline='', encoding='utf-8') as file:\n",
    "    writer = csv.writer(file)\n",
    "    writer.writerow(['Pitcher', 'ERA'])  # Write header\n",
    "    writer.writerows(all_pitchers_era)\n",
    "\n",
    "print(f\"Total number of pitchers: {total_pitchers}\")\n",
    "driver.quit()\n"
   ]
  },
  {
   "cell_type": "markdown",
   "id": "59115f8f-4335-48ed-b87c-feb0f1882928",
   "metadata": {},
   "source": [
    "## Data Analysis to Choose Best Players and Pitchers"
   ]
  },
  {
   "cell_type": "code",
   "execution_count": 28,
   "id": "36ac3a4e-cf26-40d2-baf9-bd621ebd192f",
   "metadata": {},
   "outputs": [
    {
     "name": "stdout",
     "output_type": "stream",
     "text": [
      "[['R López' 1.7]\n",
      " ['R Suárez' 2.01]\n",
      " ['T Houck' 2.18]\n",
      " ['C Burnes' 2.28]\n",
      " ['S Lugo' 2.29]\n",
      " ['T Skubal' 2.32]\n",
      " ['R Blanco' 2.34]\n",
      " ['T Anderson' 2.63]\n",
      " ['C Sánchez' 2.67]\n",
      " ['L Gilbert' 2.71]\n",
      " ['Z Wheeler' 2.73]\n",
      " ['G Stone' 2.73]\n",
      " ['C Sale' 2.79]]\n",
      "[['A Rutschman' 0.3 'C']\n",
      " ['L Arraez' 0.31 '1B']\n",
      " ['J Altuve' 0.303 '2B']\n",
      " ['L Rengifo' 0.312 '3B']\n",
      " ['B Witt Jr.' 0.31 'SS']\n",
      " ['J Profar' 0.316 'LF']\n",
      " ['A Judge' 0.304 'CF']\n",
      " ['J Soto' 0.3 'RF']\n",
      " ['S Ohtani' 0.322 'DH']\n",
      " ['C Correa' 0.309 'SS']\n",
      " ['M Betts' 0.304 'SS']\n",
      " ['M Ozuna' 0.303 'DH']\n",
      " ['B Harper' 0.303 '1B']]\n",
      "Average Batting Average: 0.307\n",
      "Average ERA: 2.41\n"
     ]
    }
   ],
   "source": [
    "import pandas as pd\n",
    "\n",
    "players_df = pd.read_csv('players_stats.csv')\n",
    "\n",
    "pitchers_df = pd.read_csv('pitchers_stats.csv')\n",
    "\n",
    "pitchers_df['ERA'] = pd.to_numeric(pitchers_df['ERA'], errors='coerce')\n",
    "lowest_eras = pitchers_df.nsmallest(13, 'ERA')\n",
    "lowest_eras_array = lowest_eras[['Pitcher', 'ERA']].values\n",
    "print(lowest_eras_array)\n",
    "\n",
    "players_df['AVG'] = pd.to_numeric(players_df['AVG'], errors='coerce')\n",
    "positions = ['C', '1B', '2B', '3B', 'SS', 'LF', 'CF', 'RF', 'DH']\n",
    "top_players_by_position = []\n",
    "\n",
    "for pos in positions:\n",
    "    pos_df = players_df[players_df['Position'] == pos]\n",
    "    if not pos_df.empty:\n",
    "        highest_avg_player = pos_df.loc[pos_df['AVG'].idxmax()]\n",
    "        top_players_by_position.append(highest_avg_player)\n",
    "        \n",
    "top_players_by_position_df = pd.DataFrame(top_players_by_position)\n",
    "\n",
    "remaining_spots = 13 - len(top_players_by_position_df)\n",
    "top_overall_players = players_df.sort_values(by='AVG', ascending=False).head(remaining_spots + len(top_players_by_position_df))\n",
    "top_players_combined = pd.concat([top_players_by_position_df, top_overall_players]).drop_duplicates().head(13)\n",
    "top_players_array = top_players_combined[['Player', 'AVG', 'Position']].values\n",
    "print(top_players_array)\n",
    "\n",
    "avg_batting_average = round(top_players_combined['AVG'].mean(), 3)\n",
    "print(f\"Average Batting Average: {avg_batting_average}\")\n",
    "\n",
    "avg_era = round(lowest_eras['ERA'].mean(), 2)\n",
    "print(f\"Average ERA: {avg_era}\")\n"
   ]
  },
  {
   "cell_type": "markdown",
   "id": "173bc17c-810c-4f76-8404-ddbb72610a19",
   "metadata": {},
   "source": [
    "## Conclusion\n",
    "To conclude this analyis, we observe that we exceeded both parameters. Our batting average is above our goal of 0.300 and our ERA is below 2.50. If we went to the World Series today, we would have a great shot at winning!"
   ]
  },
  {
   "cell_type": "code",
   "execution_count": null,
   "id": "6a3cd092-6fa7-4430-bdd8-2c55d73b152e",
   "metadata": {},
   "outputs": [],
   "source": []
  }
 ],
 "metadata": {
  "kernelspec": {
   "display_name": "Python 3 (ipykernel)",
   "language": "python",
   "name": "python3"
  },
  "language_info": {
   "codemirror_mode": {
    "name": "ipython",
    "version": 3
   },
   "file_extension": ".py",
   "mimetype": "text/x-python",
   "name": "python",
   "nbconvert_exporter": "python",
   "pygments_lexer": "ipython3",
   "version": "3.9.13"
  }
 },
 "nbformat": 4,
 "nbformat_minor": 5
}
